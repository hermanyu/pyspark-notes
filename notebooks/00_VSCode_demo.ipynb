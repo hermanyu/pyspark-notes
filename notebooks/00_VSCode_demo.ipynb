{
 "cells": [
  {
   "cell_type": "markdown",
   "metadata": {},
   "source": [
    "# VS Code Demo Notebook"
   ]
  },
  {
   "cell_type": "markdown",
   "metadata": {},
   "source": [
    "Open this notebook in VS Code. In the top right corner, click on the **select kernel** menu and choose the appropriate kernel. Note that a new user might have to install the proper `Python` + `Jupyter` extensions."
   ]
  },
  {
   "cell_type": "code",
   "execution_count": 3,
   "metadata": {},
   "outputs": [
    {
     "name": "stdout",
     "output_type": "stream",
     "text": [
      "hello world!\n"
     ]
    }
   ],
   "source": [
    "# example of some python code to run\n",
    "print(\"hello world!\")"
   ]
  },
  {
   "cell_type": "code",
   "execution_count": 5,
   "metadata": {},
   "outputs": [],
   "source": [
    "# the ipython kernel functions like regular jupyter notebooks\n",
    "# in particular: variables can be saved and referenced\n",
    "# in subsequent code chunks\n",
    "weekdays = [\n",
    "    \"Monday\"\n",
    "    , \"Tuesday\"\n",
    "    , \"Wednesday\"\n",
    "    , \"Thursday\"\n",
    "    , \"Friday\"\n",
    "    , \"Saturday\"\n",
    "    , \"Sunday\"\n",
    "]"
   ]
  },
  {
   "cell_type": "code",
   "execution_count": 10,
   "metadata": {},
   "outputs": [
    {
     "name": "stdout",
     "output_type": "stream",
     "text": [
      "Today is: Monday\n",
      "Today is: Tuesday\n",
      "Today is: Wednesday\n",
      "Today is: Thursday\n",
      "Today is: Friday\n",
      "Today is: Saturday\n",
      "Today is: Sunday\n"
     ]
    }
   ],
   "source": [
    "# used the list saved in previous code chunk\n",
    "for i in range(len(weekdays)):\n",
    "    print(f\"Today is: {weekdays[i]}\")"
   ]
  }
 ],
 "metadata": {
  "kernelspec": {
   "display_name": "udemy-pyspark-course",
   "language": "python",
   "name": "python3"
  },
  "language_info": {
   "codemirror_mode": {
    "name": "ipython",
    "version": 3
   },
   "file_extension": ".py",
   "mimetype": "text/x-python",
   "name": "python",
   "nbconvert_exporter": "python",
   "pygments_lexer": "ipython3",
   "version": "3.11.8"
  }
 },
 "nbformat": 4,
 "nbformat_minor": 2
}
