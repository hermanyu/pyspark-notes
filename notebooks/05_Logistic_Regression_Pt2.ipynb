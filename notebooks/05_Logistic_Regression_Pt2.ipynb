{
 "cells": [
  {
   "cell_type": "markdown",
   "id": "3a5c3cd7-3c38-441f-bcba-506fa140ac86",
   "metadata": {},
   "source": [
    "# 05 Logistic Regression Part 2"
   ]
  },
  {
   "cell_type": "markdown",
   "id": "4945908c-8137-4878-ac75-3ec1b2ed5f41",
   "metadata": {},
   "source": [
    "## Introduction"
   ]
  },
  {
   "cell_type": "markdown",
   "id": "f41109e1-d0b1-4234-b3d4-62301828ebcf",
   "metadata": {},
   "source": [
    "In this notebook, we will use logistic regression to predict which passengers survived in the Titanic data set. In particular, there are 3 major topics of discussion:\n",
    "\n",
    "1) How should we handle the NULL values in each column?\n",
    "2) How do we use categorical variables in Pyspark's MLlib library?\n",
    "3) How do we leverage `Pipeline` objects to package our feature transformations and model training into a single object?\n",
    "\n",
    "Note that there are 2 different directions we could take this model:\n",
    "\n",
    "* **Inference:** We could build a model that makes statements about the relationships between passenger attributes vs probability of survival. In this case, our ultimate goal would be to answer the following questions: \"Does attribute X increase or decrease the probability of survival? How confident are we in this statement?\" \n",
    "\n",
    "* **Prediction:** Alternatively, we could build a model for pure prediction. In this case, our ultimate goal would be to maximize either accuracy, F1-score, or AUC on some holdout data set.\n",
    "\n",
    "For this specific data set, a model for inference seems more valuable than a model for prediction. After all, the sinking of the Titanic isn't a repeatable event, so uncovering insights would be more useful than a predictive model."
   ]
  },
  {
   "cell_type": "markdown",
   "id": "d2c5900d-9316-41a6-9e70-9389c835c619",
   "metadata": {},
   "source": [
    "<br>\n",
    "\n",
    "---\n",
    "\n",
    "<br>"
   ]
  },
  {
   "cell_type": "markdown",
   "id": "37efd9f3-3335-4201-8221-fbff28907982",
   "metadata": {},
   "source": [
    "## 5.1 The Titanic Dataset"
   ]
  },
  {
   "cell_type": "markdown",
   "id": "5f978cef-2227-483f-9d66-204e36486c91",
   "metadata": {},
   "source": [
    "The Titanic data set contains a subset of the passengers aboard the HMS Titanic during its maiden voyage in 1912. The ship ultimately sank 4 days into its transatlantic journey; the data set contains attributes of each passenger as well as a column `Survived` indicating whether the passenger survived the sinking. Our goal is to train a logistic regression model that can generate a passenger's probability of survival based on the attributes of that passenger."
   ]
  },
  {
   "cell_type": "code",
   "execution_count": 52,
   "id": "6ea5b256-69d2-45a6-82e7-45c8bf93102d",
   "metadata": {},
   "outputs": [],
   "source": [
    "import numpy as np\n",
    "import pandas as pd\n",
    "import matplotlib.pyplot as plt\n",
    "import seaborn as sns\n",
    "from pyspark.sql import SparkSession\n",
    "from pyspark.sql import functions as F\n",
    "\n",
    "DATA_PATH = \"../course_materials/Spark_for_Machine_Learning/Logistic_Regression/\"\n",
    "spark = SparkSession.builder.appName(\"Logistic Regression 2\").getOrCreate()\n",
    "\n",
    "df = spark.read.csv(DATA_PATH + \"titanic.csv\", inferSchema = True, header = True)"
   ]
  },
  {
   "cell_type": "code",
   "execution_count": 12,
   "id": "90967f2a-0e77-444a-abfa-d6e5755ae3d6",
   "metadata": {},
   "outputs": [
    {
     "name": "stdout",
     "output_type": "stream",
     "text": [
      "Number of rows: 891\n",
      "root\n",
      " |-- PassengerId: integer (nullable = true)\n",
      " |-- Survived: integer (nullable = true)\n",
      " |-- Pclass: integer (nullable = true)\n",
      " |-- Name: string (nullable = true)\n",
      " |-- Sex: string (nullable = true)\n",
      " |-- Age: double (nullable = true)\n",
      " |-- SibSp: integer (nullable = true)\n",
      " |-- Parch: integer (nullable = true)\n",
      " |-- Ticket: string (nullable = true)\n",
      " |-- Fare: double (nullable = true)\n",
      " |-- Cabin: string (nullable = true)\n",
      " |-- Embarked: string (nullable = true)\n",
      "\n",
      "+-----------+--------+------+--------------------+------+----+-----+-----+----------------+-------+-----+--------+\n",
      "|PassengerId|Survived|Pclass|                Name|   Sex| Age|SibSp|Parch|          Ticket|   Fare|Cabin|Embarked|\n",
      "+-----------+--------+------+--------------------+------+----+-----+-----+----------------+-------+-----+--------+\n",
      "|          1|       0|     3|Braund, Mr. Owen ...|  male|22.0|    1|    0|       A/5 21171|   7.25| NULL|       S|\n",
      "|          2|       1|     1|Cumings, Mrs. Joh...|female|38.0|    1|    0|        PC 17599|71.2833|  C85|       C|\n",
      "|          3|       1|     3|Heikkinen, Miss. ...|female|26.0|    0|    0|STON/O2. 3101282|  7.925| NULL|       S|\n",
      "|          4|       1|     1|Futrelle, Mrs. Ja...|female|35.0|    1|    0|          113803|   53.1| C123|       S|\n",
      "|          5|       0|     3|Allen, Mr. Willia...|  male|35.0|    0|    0|          373450|   8.05| NULL|       S|\n",
      "+-----------+--------+------+--------------------+------+----+-----+-----+----------------+-------+-----+--------+\n",
      "only showing top 5 rows\n",
      "\n"
     ]
    }
   ],
   "source": [
    "print(f\"Number of rows: {df.count()}\")\n",
    "df.printSchema()\n",
    "\n",
    "df.show(5)"
   ]
  },
  {
   "cell_type": "code",
   "execution_count": 45,
   "id": "8e4a6323-5670-42dc-b524-e3e96382ec81",
   "metadata": {},
   "outputs": [
    {
     "name": "stdout",
     "output_type": "stream",
     "text": [
      "PassengerId: 0\n",
      "Survived: 0\n",
      "Pclass: 0\n",
      "Name: 0\n",
      "Sex: 0\n",
      "Age: 177\n",
      "SibSp: 0\n",
      "Parch: 0\n",
      "Ticket: 0\n",
      "Fare: 0\n",
      "Cabin: 687\n",
      "Embarked: 2\n"
     ]
    }
   ],
   "source": [
    "# count NULL values in each column\n",
    "for col in df.columns:\n",
    "    nulls = df.filter(df[col].isNull()).count()\n",
    "    print(f\"{col}: {nulls}\")"
   ]
  },
  {
   "cell_type": "markdown",
   "id": "3360252a-8473-4e0c-88e4-72ba377ac34a",
   "metadata": {},
   "source": [
    "The are 177 rows with a missing `Age` value."
   ]
  },
  {
   "cell_type": "markdown",
   "id": "1dbb0554-51c6-477d-bccf-49f951110575",
   "metadata": {},
   "source": [
    "## 5.2 EDA"
   ]
  },
  {
   "cell_type": "code",
   "execution_count": 57,
   "id": "d8c44bc8-75c3-4abe-9154-499510765222",
   "metadata": {
    "scrolled": true
   },
   "outputs": [
    {
     "name": "stdout",
     "output_type": "stream",
     "text": [
      "+------------------+-----------------+-----------------+---------------------+--------------------+----------------+\n",
      "|     mean_survived|       mean_class|         mean_age|mean_siblings_spouses|mean_parent_children|       mean_fare|\n",
      "+------------------+-----------------+-----------------+---------------------+--------------------+----------------+\n",
      "|0.3838383838383838|2.308641975308642|29.69911764705882|   0.5230078563411896| 0.38159371492704824|32.2042079685746|\n",
      "+------------------+-----------------+-----------------+---------------------+--------------------+----------------+\n",
      "\n"
     ]
    }
   ],
   "source": [
    "df.agg(\n",
    "    F.mean(\"Survived\").alias(\"mean_survived\"),\n",
    "    F.mean(\"Pclass\").alias(\"mean_class\"),\n",
    "    F.mean(\"Age\").alias(\"mean_age\"),\n",
    "    F.mean(\"SibSp\").alias(\"mean_siblings_spouses\"),\n",
    "    F.mean(\"Parch\").alias(\"mean_parent_children\"),\n",
    "    F.mean(\"Fare\").alias(\"mean_fare\")\n",
    ").show()"
   ]
  },
  {
   "cell_type": "markdown",
   "id": "e479a4f0-454b-440e-bf4e-ce36db00e707",
   "metadata": {},
   "source": [
    "This summary view gives the average value of each numeric column. However, we are interested in the differences in attributes between survivors and non-survivors."
   ]
  },
  {
   "cell_type": "code",
   "execution_count": 25,
   "id": "bf08ad2c-af69-48ab-996e-f5b6efee169d",
   "metadata": {
    "scrolled": true
   },
   "outputs": [
    {
     "name": "stdout",
     "output_type": "stream",
     "text": [
      "+--------+------------------+------------------+---------------------+--------------------+------------------+\n",
      "|Survived|        mean_class|          mean_age|mean_siblings_spouses|mean_parent_children|         mean_fare|\n",
      "+--------+------------------+------------------+---------------------+--------------------+------------------+\n",
      "|       1|1.9502923976608186|28.343689655172415|  0.47368421052631576|  0.4649122807017544| 48.39540760233917|\n",
      "|       0|2.5318761384335153| 30.62617924528302|   0.5537340619307832|  0.3296903460837887|22.117886885245877|\n",
      "+--------+------------------+------------------+---------------------+--------------------+------------------+\n",
      "\n"
     ]
    }
   ],
   "source": [
    "df.groupBy(\"Survived\").agg(\n",
    "    F.mean(\"Pclass\").alias(\"mean_class\"),\n",
    "    F.mean(\"Age\").alias(\"mean_age\"),\n",
    "    F.mean(\"SibSp\").alias(\"mean_siblings_spouses\"),\n",
    "    F.mean(\"Parch\").alias(\"mean_parent_children\"),\n",
    "    F.mean(\"Fare\").alias(\"mean_fare\")\n",
    ").show()"
   ]
  },
  {
   "cell_type": "code",
   "execution_count": 70,
   "id": "dcb4a1f6-988c-40bd-b1bd-d99ae611c14d",
   "metadata": {},
   "outputs": [
    {
     "name": "stdout",
     "output_type": "stream",
     "text": [
      "+------+-----+-------------------+-----------------+------------------+---------------------+--------------------+------------------+\n",
      "|   Sex|count|      mean_survived|       mean_class|          mean_age|mean_siblings_spouses|mean_parent_children|         mean_fare|\n",
      "+------+-----+-------------------+-----------------+------------------+---------------------+--------------------+------------------+\n",
      "|female|  314| 0.7420382165605095|2.159235668789809|27.915708812260537|   0.6942675159235668|  0.6496815286624203| 44.47981783439487|\n",
      "|  male|  577|0.18890814558058924|2.389948006932409| 30.72664459161148|  0.42980935875216636| 0.23570190641247835|25.523893414211418|\n",
      "+------+-----+-------------------+-----------------+------------------+---------------------+--------------------+------------------+\n",
      "\n"
     ]
    }
   ],
   "source": [
    "df.groupBy(\"Sex\").agg(\n",
    "    F.count(\"Sex\").alias(\"count\"),\n",
    "    F.mean(\"Survived\").alias(\"mean_survived\"),\n",
    "    F.mean(\"Pclass\").alias(\"mean_class\"),\n",
    "    F.mean(\"Age\").alias(\"mean_age\"),\n",
    "    F.mean(\"SibSp\").alias(\"mean_siblings_spouses\"),\n",
    "    F.mean(\"Parch\").alias(\"mean_parent_children\"),\n",
    "    F.mean(\"Fare\").alias(\"mean_fare\")\n",
    ").show()"
   ]
  },
  {
   "cell_type": "markdown",
   "id": "902e7a01-54a0-4d66-8704-f4132c4d75e6",
   "metadata": {},
   "source": [
    "Generally speaking:\n",
    "\n",
    "* Survivors were slightly younger with a mean age of 28 as compared to non-survivors who had a mean age of 30. This could be evidence that children may have been given priority on the lifeboats\n",
    "* Survivors generally had a higher Parent-Child count, indicating that small children and their parents were given priority for evacuation.\n",
    "* Survivors generally came from 1st or 2nd class and paid a higher ticket price, which indicates that more affluent passengers were given preferential treatment.\n",
    "* Female passengers were overwhelming more likely to survive than male passengers."
   ]
  },
  {
   "cell_type": "code",
   "execution_count": 59,
   "id": "8cde0e49-679f-4fdb-b4c4-1b5ada651ed6",
   "metadata": {},
   "outputs": [
    {
     "name": "stdout",
     "output_type": "stream",
     "text": [
      "+--------+-----+-------------------+------------------+------------------+---------------------+--------------------+------------------+\n",
      "|Embarked|count|      mean_survived|        mean_class|          mean_age|mean_siblings_spouses|mean_parent_children|         mean_fare|\n",
      "+--------+-----+-------------------+------------------+------------------+---------------------+--------------------+------------------+\n",
      "|       Q|   77|0.38961038961038963| 2.909090909090909|28.089285714285715|  0.42857142857142855| 0.16883116883116883|13.276029870129872|\n",
      "|    NULL|    0|                1.0|               1.0|              50.0|                  0.0|                 0.0|              80.0|\n",
      "|       C|  168| 0.5535714285714286|1.8869047619047619| 30.81476923076923|   0.3869047619047619|  0.3630952380952381| 59.95414404761905|\n",
      "|       S|  644|0.33695652173913043|2.3509316770186337| 29.44539711191336|   0.5714285714285714| 0.41304347826086957| 27.07981180124218|\n",
      "+--------+-----+-------------------+------------------+------------------+---------------------+--------------------+------------------+\n",
      "\n"
     ]
    }
   ],
   "source": [
    "df.groupBy(\"Embarked\").agg(\n",
    "    F.count(\"Embarked\").alias(\"count\"),\n",
    "    F.mean(\"Survived\").alias(\"mean_survived\"),\n",
    "    F.mean(\"Pclass\").alias(\"mean_class\"),\n",
    "    F.mean(\"Age\").alias(\"mean_age\"),\n",
    "    F.mean(\"SibSp\").alias(\"mean_siblings_spouses\"),\n",
    "    F.mean(\"Parch\").alias(\"mean_parent_children\"),\n",
    "    F.mean(\"Fare\").alias(\"mean_fare\")\n",
    ").show()"
   ]
  },
  {
   "cell_type": "code",
   "execution_count": 67,
   "id": "b38d78d8-2d61-4dab-894e-757329b6e3b4",
   "metadata": {},
   "outputs": [
    {
     "name": "stdout",
     "output_type": "stream",
     "text": [
      "+--------+------+----+\n",
      "|Embarked|female|male|\n",
      "+--------+------+----+\n",
      "|       Q|    36|  41|\n",
      "|    NULL|     2|NULL|\n",
      "|       C|    73|  95|\n",
      "|       S|   203| 441|\n",
      "+--------+------+----+\n",
      "\n"
     ]
    }
   ],
   "source": [
    "df.groupBy([\"Embarked\"]).pivot(\"Sex\").count().show()"
   ]
  },
  {
   "cell_type": "markdown",
   "id": "bcdadaea-0afb-428d-b133-8a51a313b619",
   "metadata": {},
   "source": [
    "Generally speaking:\n",
    "\n",
    "* People who embarked at Queenstown (`Q`) had fewer children and younger age. This likely indicates they were mostly young adults. Queenstown passengers also paid a lower fare price and were most likely to be in 3rd class.\n",
    "* People who embarked at Cherbourg (`C`) paid the highest fare price and were more likely to be in 1st and 2nd class. Consequently, they also have a much larger survival probability than the other 2 ports.\n",
    "* People who embarked at Southampton (`S`) on average had the highest Parent/Child count and Sibling/Spouse count. These were likely large families traveling together. The male passengers also outnumber female passengers at 2:1 for Southhampton. This could explain why Southhampton passengers had a lower survival rate than Queenstown passengers, despite Southhampton passengers being generally higher class."
   ]
  },
  {
   "cell_type": "code",
   "execution_count": 56,
   "id": "ffb635b6-4080-40f1-8248-a74988f496ef",
   "metadata": {},
   "outputs": [
    {
     "data": {
      "text/plain": [
       "<Axes: >"
      ]
     },
     "execution_count": 56,
     "metadata": {},
     "output_type": "execute_result"
    },
    {
     "data": {
      "image/png": "[encoded data removed]",
      "text/plain": [
       "<Figure size 640x480 with 2 Axes>"
      ]
     },
     "metadata": {},
     "output_type": "display_data"
    }
   ],
   "source": [
    "from pyspark.ml.linalg import Vector\n",
    "from pyspark.ml.feature import VectorAssembler\n",
    "from pyspark.ml.stat import Correlation\n",
    "\n",
    "corr_cols = [\n",
    "    \"Pclass\",\n",
    "    # \"Age\", # this column has NULLs which will cause errors\n",
    "             # when computing correlation matrix\n",
    "    \"SibSp\",\n",
    "    \"Parch\",\n",
    "    \"Fare\"\n",
    "]\n",
    "\n",
    "corr_assembler = VectorAssembler(\n",
    "    inputCols = corr_cols,\n",
    "    outputCol = \"features\"\n",
    ")\n",
    "\n",
    "cor_mat = Correlation.corr(corr_assembler.transform(df), column = \"features\")\n",
    "\n",
    "cor_mat = cor_mat.collect()[0][\"pearson(features)\"].toArray().tolist()\n",
    "\n",
    "cor_mat = pd.DataFrame(cor_mat, columns = corr_cols, index = corr_cols)\n",
    "\n",
    "sns.heatmap(cor_mat, annot = True)"
   ]
  },
  {
   "cell_type": "markdown",
   "id": "db13cc53-53da-4673-a4d3-6fa683439f96",
   "metadata": {},
   "source": [
    "<br>\n",
    "\n",
    "---\n",
    "\n",
    "<br>"
   ]
  },
  {
   "cell_type": "markdown",
   "id": "4fcbac2a-b657-4448-8bef-d355ffde7c07",
   "metadata": {},
   "source": [
    "## 5.3 NULL Values"
   ]
  },
  {
   "cell_type": "markdown",
   "id": "00ae219c-0f66-4f39-a6f5-9edb60e068c9",
   "metadata": {},
   "source": [
    "Recall that 177 rows were missing an `Age` column. For the purposes of inference, we will likely have to drop these columns. But before dropping NULLs, we should always take a look at the rows where they exist to see if there are any patterns."
   ]
  },
  {
   "cell_type": "code",
   "execution_count": 76,
   "id": "0adfd69e-b6bc-4763-8bed-fbca1fe59ec2",
   "metadata": {},
   "outputs": [
    {
     "name": "stdout",
     "output_type": "stream",
     "text": [
      "+-----------+--------+------+--------------------+------+----+-----+-----+---------------+--------+-----+--------+\n",
      "|PassengerId|Survived|Pclass|                Name|   Sex| Age|SibSp|Parch|         Ticket|    Fare|Cabin|Embarked|\n",
      "+-----------+--------+------+--------------------+------+----+-----+-----+---------------+--------+-----+--------+\n",
      "|          6|       0|     3|    Moran, Mr. James|  male|NULL|    0|    0|         330877|  8.4583| NULL|       Q|\n",
      "|         18|       1|     2|Williams, Mr. Cha...|  male|NULL|    0|    0|         244373|    13.0| NULL|       S|\n",
      "|         20|       1|     3|Masselmani, Mrs. ...|female|NULL|    0|    0|           2649|   7.225| NULL|       C|\n",
      "|         27|       0|     3|Emir, Mr. Farred ...|  male|NULL|    0|    0|           2631|   7.225| NULL|       C|\n",
      "|         29|       1|     3|\"O'Dwyer, Miss. E...|female|NULL|    0|    0|         330959|  7.8792| NULL|       Q|\n",
      "|         30|       0|     3| Todoroff, Mr. Lalio|  male|NULL|    0|    0|         349216|  7.8958| NULL|       S|\n",
      "|         32|       1|     1|Spencer, Mrs. Wil...|female|NULL|    1|    0|       PC 17569|146.5208|  B78|       C|\n",
      "|         33|       1|     3|Glynn, Miss. Mary...|female|NULL|    0|    0|         335677|    7.75| NULL|       Q|\n",
      "|         37|       1|     3|    Mamee, Mr. Hanna|  male|NULL|    0|    0|           2677|  7.2292| NULL|       C|\n",
      "|         43|       0|     3| Kraeff, Mr. Theodor|  male|NULL|    0|    0|         349253|  7.8958| NULL|       C|\n",
      "|         46|       0|     3|Rogers, Mr. Willi...|  male|NULL|    0|    0|S.C./A.4. 23567|    8.05| NULL|       S|\n",
      "|         47|       0|     3|   Lennon, Mr. Denis|  male|NULL|    1|    0|         370371|    15.5| NULL|       Q|\n",
      "|         48|       1|     3|O'Driscoll, Miss....|female|NULL|    0|    0|          14311|    7.75| NULL|       Q|\n",
      "|         49|       0|     3| Samaan, Mr. Youssef|  male|NULL|    2|    0|           2662| 21.6792| NULL|       C|\n",
      "|         56|       1|     1|   Woolner, Mr. Hugh|  male|NULL|    0|    0|          19947|    35.5|  C52|       S|\n",
      "|         65|       0|     1|Stewart, Mr. Albe...|  male|NULL|    0|    0|       PC 17605| 27.7208| NULL|       C|\n",
      "|         66|       1|     3|Moubarek, Master....|  male|NULL|    1|    1|           2661| 15.2458| NULL|       C|\n",
      "|         77|       0|     3|   Staneff, Mr. Ivan|  male|NULL|    0|    0|         349208|  7.8958| NULL|       S|\n",
      "|         78|       0|     3|Moutal, Mr. Raham...|  male|NULL|    0|    0|         374746|    8.05| NULL|       S|\n",
      "|         83|       1|     3|McDermott, Miss. ...|female|NULL|    0|    0|         330932|  7.7875| NULL|       Q|\n",
      "+-----------+--------+------+--------------------+------+----+-----+-----+---------------+--------+-----+--------+\n",
      "only showing top 20 rows\n",
      "\n"
     ]
    }
   ],
   "source": [
    "df.filter( df[\"Age\"].isNull()).show()"
   ]
  },
  {
   "cell_type": "code",
   "execution_count": 78,
   "id": "493e36f3-2c7a-4ad3-909c-e4534d668a9c",
   "metadata": {},
   "outputs": [
    {
     "name": "stdout",
     "output_type": "stream",
     "text": [
      "+------+---+---+\n",
      "|   Sex|  0|  1|\n",
      "+------+---+---+\n",
      "|female| 17| 36|\n",
      "|  male|108| 16|\n",
      "+------+---+---+\n",
      "\n"
     ]
    }
   ],
   "source": [
    "df.filter( df[\"Age\"].isNull()).groupBy(\"Sex\").pivot(\"Survived\").count().show()"
   ]
  },
  {
   "cell_type": "markdown",
   "id": "44e61c46-d52b-4d2a-bdf3-25ebf0b61e28",
   "metadata": {},
   "source": [
    "The subset where `Age` is NULL generally follows the same patterns as the wider population. There doesn't seem to be a discernable correlation between the other variables and a null `Age`. We can probably drop the NULL rows for now."
   ]
  },
  {
   "cell_type": "code",
   "execution_count": 81,
   "id": "01c86a7d-a447-4210-be51-6dab7d7add92",
   "metadata": {},
   "outputs": [],
   "source": [
    "df_cleaned = df.na.drop(subset = [\"Age\", \"Embarked\"])"
   ]
  },
  {
   "cell_type": "markdown",
   "id": "9c606de4-aa5b-4797-9426-7727e5366cd7",
   "metadata": {},
   "source": [
    "<br>\n",
    "\n",
    "---\n",
    "\n",
    "<br>"
   ]
  },
  {
   "cell_type": "markdown",
   "id": "c6cf5fac-d6fc-4237-bef4-6488b4855c38",
   "metadata": {},
   "source": [
    "## 5.3 Categorical Predictors"
   ]
  },
  {
   "cell_type": "markdown",
   "id": "2cec0345-e232-4c78-85dc-7cda7fff7222",
   "metadata": {},
   "source": [
    "In order to use categorical variables as predictors, we need to one-hot encode them into dummy variables. To do this, we need to use the `StringIndexer` and `OneHotEncoder` feature transformers. The `StringIndexer` will index each value of a categorical column with an integer (analogous to a *factor* in the R language).\n",
    "\n",
    "Note that both of `StringIndexer` and `OneHotEncoder` come with a `fit()` method that \"compiles\" the steps of the transformation, and a `transform()` method that actually transforms the dataframe."
   ]
  },
  {
   "cell_type": "code",
   "execution_count": 171,
   "id": "b5c92d4c-e158-4505-88cc-b8b69b5250eb",
   "metadata": {},
   "outputs": [],
   "source": [
    "from pyspark.ml.feature import OneHotEncoder, StringIndexer\n",
    "\n",
    "sex_indexer = StringIndexer(\n",
    "    inputCol = \"Sex\",       # column to hash to integers\n",
    "    outputCol = \"SexIndex\", # name of the resulting column\n",
    "    stringOrderType = \"alphabetAsc\" # controls how the hashing occurs\n",
    "                                    # default is to order by most frequent value;\n",
    "                                    # for our purposes, we want to put 'female' at index 0\n",
    ")\n",
    "\n",
    "embark_indexer = StringIndexer(\n",
    "    inputCol = \"Embarked\", \n",
    "    outputCol = \"EmbarkedIndex\"\n",
    ")\n",
    "\n",
    "# one-hot encode Pclass;\n",
    "# even though Pclass is technically an ordinal variable,\n",
    "# the values 1, 2, 3 do not represent a linear relationship.\n",
    "# That is: 1st class is \"better\" than 2nd class, but this difference\n",
    "# can't be objectively measured with a subtraction.\n",
    "class_indexer = StringIndexer(\n",
    "    inputCol = \"Pclass\", \n",
    "    outputCol = \"PclassIndex\",\n",
    "    stringOrderType = \"alphabetAsc\"\n",
    ")\n",
    "onehot_encoder = OneHotEncoder(inputCols = [\"SexIndex\", \"EmbarkedIndex\", \"PclassIndex\"], outputCols = [\"SexVec\", \"EmbarkedVec\", \"PclassVec\"])\n",
    "\n",
    "feature_cols = [\n",
    "    \"Age\",\n",
    "    \"SibSp\",\n",
    "    \"Parch\",\n",
    "    \"Fare\",\n",
    "    \"SexVec\",\n",
    "    \"EmbarkedVec\",\n",
    "    \"PclassVec\"\n",
    "]\n",
    "\n",
    "assembler = VectorAssembler(inputCols = feature_cols, outputCol = \"features\")"
   ]
  },
  {
   "cell_type": "markdown",
   "id": "e9ba8529-eb54-45b2-9065-570d95530bb2",
   "metadata": {},
   "source": [
    "For `StringIndexer` objects, the `fit()` method will transform the data and return a `StringIndexerModel` object. This object comes with a `labels` attribute which allows us to see exactly how the categories got hashed."
   ]
  },
  {
   "cell_type": "code",
   "execution_count": 172,
   "id": "efa7b227-cc5a-4663-b07c-469dbfb2cb00",
   "metadata": {},
   "outputs": [
    {
     "name": "stdout",
     "output_type": "stream",
     "text": [
      "['female', 'male']\n",
      "['S', 'C', 'Q']\n",
      "['1', '2', '3']\n"
     ]
    }
   ],
   "source": [
    "print( sex_indexer.fit(df_cleaned).labels )\n",
    "print( embark_indexer.fit(df_cleaned).labels )\n",
    "print( class_indexer.fit(df_cleaned).labels )"
   ]
  },
  {
   "cell_type": "code",
   "execution_count": 173,
   "id": "e1dc4b22-9a02-4444-b9ce-d18665e4bc60",
   "metadata": {},
   "outputs": [
    {
     "name": "stdout",
     "output_type": "stream",
     "text": [
      "+-----------+--------+------+--------------------+------+----+-----+-----+----------------+-------+-----+--------+--------+-------------+-----------+\n",
      "|PassengerId|Survived|Pclass|                Name|   Sex| Age|SibSp|Parch|          Ticket|   Fare|Cabin|Embarked|SexIndex|EmbarkedIndex|PclassIndex|\n",
      "+-----------+--------+------+--------------------+------+----+-----+-----+----------------+-------+-----+--------+--------+-------------+-----------+\n",
      "|          1|       0|     3|Braund, Mr. Owen ...|  male|22.0|    1|    0|       A/5 21171|   7.25| NULL|       S|     1.0|          0.0|        2.0|\n",
      "|          2|       1|     1|Cumings, Mrs. Joh...|female|38.0|    1|    0|        PC 17599|71.2833|  C85|       C|     0.0|          1.0|        0.0|\n",
      "|          3|       1|     3|Heikkinen, Miss. ...|female|26.0|    0|    0|STON/O2. 3101282|  7.925| NULL|       S|     0.0|          0.0|        2.0|\n",
      "|          4|       1|     1|Futrelle, Mrs. Ja...|female|35.0|    1|    0|          113803|   53.1| C123|       S|     0.0|          0.0|        0.0|\n",
      "|          5|       0|     3|Allen, Mr. Willia...|  male|35.0|    0|    0|          373450|   8.05| NULL|       S|     1.0|          0.0|        2.0|\n",
      "|          7|       0|     1|McCarthy, Mr. Tim...|  male|54.0|    0|    0|           17463|51.8625|  E46|       S|     1.0|          0.0|        0.0|\n",
      "|          8|       0|     3|Palsson, Master. ...|  male| 2.0|    3|    1|          349909| 21.075| NULL|       S|     1.0|          0.0|        2.0|\n",
      "|          9|       1|     3|Johnson, Mrs. Osc...|female|27.0|    0|    2|          347742|11.1333| NULL|       S|     0.0|          0.0|        2.0|\n",
      "|         10|       1|     2|Nasser, Mrs. Nich...|female|14.0|    1|    0|          237736|30.0708| NULL|       C|     0.0|          1.0|        1.0|\n",
      "|         11|       1|     3|Sandstrom, Miss. ...|female| 4.0|    1|    1|         PP 9549|   16.7|   G6|       S|     0.0|          0.0|        2.0|\n",
      "|         12|       1|     1|Bonnell, Miss. El...|female|58.0|    0|    0|          113783|  26.55| C103|       S|     0.0|          0.0|        0.0|\n",
      "|         13|       0|     3|Saundercock, Mr. ...|  male|20.0|    0|    0|       A/5. 2151|   8.05| NULL|       S|     1.0|          0.0|        2.0|\n",
      "|         14|       0|     3|Andersson, Mr. An...|  male|39.0|    1|    5|          347082| 31.275| NULL|       S|     1.0|          0.0|        2.0|\n",
      "|         15|       0|     3|Vestrom, Miss. Hu...|female|14.0|    0|    0|          350406| 7.8542| NULL|       S|     0.0|          0.0|        2.0|\n",
      "|         16|       1|     2|Hewlett, Mrs. (Ma...|female|55.0|    0|    0|          248706|   16.0| NULL|       S|     0.0|          0.0|        1.0|\n",
      "|         17|       0|     3|Rice, Master. Eugene|  male| 2.0|    4|    1|          382652| 29.125| NULL|       Q|     1.0|          2.0|        2.0|\n",
      "|         19|       0|     3|Vander Planke, Mr...|female|31.0|    1|    0|          345763|   18.0| NULL|       S|     0.0|          0.0|        2.0|\n",
      "|         21|       0|     2|Fynney, Mr. Joseph J|  male|35.0|    0|    0|          239865|   26.0| NULL|       S|     1.0|          0.0|        1.0|\n",
      "|         22|       1|     2|Beesley, Mr. Lawr...|  male|34.0|    0|    0|          248698|   13.0|  D56|       S|     1.0|          0.0|        1.0|\n",
      "|         23|       1|     3|\"McGowan, Miss. A...|female|15.0|    0|    0|          330923| 8.0292| NULL|       Q|     0.0|          2.0|        2.0|\n",
      "+-----------+--------+------+--------------------+------+----+-----+-----+----------------+-------+-----+--------+--------+-------------+-----------+\n",
      "only showing top 20 rows\n",
      "\n"
     ]
    }
   ],
   "source": [
    "df_temp = sex_indexer.fit(df_cleaned).transform(df_cleaned)\n",
    "\n",
    "df_temp = embark_indexer.fit(df_temp).transform(df_temp)\n",
    "\n",
    "df_temp = class_indexer.fit(df_temp).transform(df_temp)\n",
    "\n",
    "df_temp.show()"
   ]
  },
  {
   "cell_type": "markdown",
   "id": "c23384db-03a5-44e2-96fc-bc32638b7313",
   "metadata": {},
   "source": [
    "For the `Sex` column, the value of `female` got hashed to 0 while `male` was hashed to 1. Similarly for the `Embarked` column, `S` was hashed to 0, `C` to 1, and `Q` to 2. By default, `OneHotEncoder` objects will drop the last index of the category when creating dummy variables (to prevent perfect multicollinearity). This means that modeling dataframe will contain:\n",
    "\n",
    "* A dummy variable for the `female` category, indicating if the person was `female` or not. The `male` category gets dropped.\n",
    "* A dummy variable for the `S` category, indicating if the person embarked at `Southhampton`.\n",
    "* A dummy variable for the `C` category, indicating if the person embarked at `Cherbourg`. The `Q` category gets dropped"
   ]
  },
  {
   "cell_type": "code",
   "execution_count": 174,
   "id": "9cc58d93-5f2b-4123-90be-4f1b41b708d8",
   "metadata": {},
   "outputs": [
    {
     "name": "stdout",
     "output_type": "stream",
     "text": [
      "Category Sizes: [2, 3, 3]\n",
      "+-----------+--------+------+--------------------+------+----+-----+-----+----------------+-------+-----+--------+--------+-------------+-----------+-------------+-------------+-------------+\n",
      "|PassengerId|Survived|Pclass|                Name|   Sex| Age|SibSp|Parch|          Ticket|   Fare|Cabin|Embarked|SexIndex|EmbarkedIndex|PclassIndex|       SexVec|  EmbarkedVec|    PclassVec|\n",
      "+-----------+--------+------+--------------------+------+----+-----+-----+----------------+-------+-----+--------+--------+-------------+-----------+-------------+-------------+-------------+\n",
      "|          1|       0|     3|Braund, Mr. Owen ...|  male|22.0|    1|    0|       A/5 21171|   7.25| NULL|       S|     1.0|          0.0|        2.0|    (1,[],[])|(2,[0],[1.0])|    (2,[],[])|\n",
      "|          2|       1|     1|Cumings, Mrs. Joh...|female|38.0|    1|    0|        PC 17599|71.2833|  C85|       C|     0.0|          1.0|        0.0|(1,[0],[1.0])|(2,[1],[1.0])|(2,[0],[1.0])|\n",
      "|          3|       1|     3|Heikkinen, Miss. ...|female|26.0|    0|    0|STON/O2. 3101282|  7.925| NULL|       S|     0.0|          0.0|        2.0|(1,[0],[1.0])|(2,[0],[1.0])|    (2,[],[])|\n",
      "|          4|       1|     1|Futrelle, Mrs. Ja...|female|35.0|    1|    0|          113803|   53.1| C123|       S|     0.0|          0.0|        0.0|(1,[0],[1.0])|(2,[0],[1.0])|(2,[0],[1.0])|\n",
      "|          5|       0|     3|Allen, Mr. Willia...|  male|35.0|    0|    0|          373450|   8.05| NULL|       S|     1.0|          0.0|        2.0|    (1,[],[])|(2,[0],[1.0])|    (2,[],[])|\n",
      "|          7|       0|     1|McCarthy, Mr. Tim...|  male|54.0|    0|    0|           17463|51.8625|  E46|       S|     1.0|          0.0|        0.0|    (1,[],[])|(2,[0],[1.0])|(2,[0],[1.0])|\n",
      "|          8|       0|     3|Palsson, Master. ...|  male| 2.0|    3|    1|          349909| 21.075| NULL|       S|     1.0|          0.0|        2.0|    (1,[],[])|(2,[0],[1.0])|    (2,[],[])|\n",
      "|          9|       1|     3|Johnson, Mrs. Osc...|female|27.0|    0|    2|          347742|11.1333| NULL|       S|     0.0|          0.0|        2.0|(1,[0],[1.0])|(2,[0],[1.0])|    (2,[],[])|\n",
      "|         10|       1|     2|Nasser, Mrs. Nich...|female|14.0|    1|    0|          237736|30.0708| NULL|       C|     0.0|          1.0|        1.0|(1,[0],[1.0])|(2,[1],[1.0])|(2,[1],[1.0])|\n",
      "|         11|       1|     3|Sandstrom, Miss. ...|female| 4.0|    1|    1|         PP 9549|   16.7|   G6|       S|     0.0|          0.0|        2.0|(1,[0],[1.0])|(2,[0],[1.0])|    (2,[],[])|\n",
      "|         12|       1|     1|Bonnell, Miss. El...|female|58.0|    0|    0|          113783|  26.55| C103|       S|     0.0|          0.0|        0.0|(1,[0],[1.0])|(2,[0],[1.0])|(2,[0],[1.0])|\n",
      "|         13|       0|     3|Saundercock, Mr. ...|  male|20.0|    0|    0|       A/5. 2151|   8.05| NULL|       S|     1.0|          0.0|        2.0|    (1,[],[])|(2,[0],[1.0])|    (2,[],[])|\n",
      "|         14|       0|     3|Andersson, Mr. An...|  male|39.0|    1|    5|          347082| 31.275| NULL|       S|     1.0|          0.0|        2.0|    (1,[],[])|(2,[0],[1.0])|    (2,[],[])|\n",
      "|         15|       0|     3|Vestrom, Miss. Hu...|female|14.0|    0|    0|          350406| 7.8542| NULL|       S|     0.0|          0.0|        2.0|(1,[0],[1.0])|(2,[0],[1.0])|    (2,[],[])|\n",
      "|         16|       1|     2|Hewlett, Mrs. (Ma...|female|55.0|    0|    0|          248706|   16.0| NULL|       S|     0.0|          0.0|        1.0|(1,[0],[1.0])|(2,[0],[1.0])|(2,[1],[1.0])|\n",
      "|         17|       0|     3|Rice, Master. Eugene|  male| 2.0|    4|    1|          382652| 29.125| NULL|       Q|     1.0|          2.0|        2.0|    (1,[],[])|    (2,[],[])|    (2,[],[])|\n",
      "|         19|       0|     3|Vander Planke, Mr...|female|31.0|    1|    0|          345763|   18.0| NULL|       S|     0.0|          0.0|        2.0|(1,[0],[1.0])|(2,[0],[1.0])|    (2,[],[])|\n",
      "|         21|       0|     2|Fynney, Mr. Joseph J|  male|35.0|    0|    0|          239865|   26.0| NULL|       S|     1.0|          0.0|        1.0|    (1,[],[])|(2,[0],[1.0])|(2,[1],[1.0])|\n",
      "|         22|       1|     2|Beesley, Mr. Lawr...|  male|34.0|    0|    0|          248698|   13.0|  D56|       S|     1.0|          0.0|        1.0|    (1,[],[])|(2,[0],[1.0])|(2,[1],[1.0])|\n",
      "|         23|       1|     3|\"McGowan, Miss. A...|female|15.0|    0|    0|          330923| 8.0292| NULL|       Q|     0.0|          2.0|        2.0|(1,[0],[1.0])|    (2,[],[])|    (2,[],[])|\n",
      "+-----------+--------+------+--------------------+------+----+-----+-----+----------------+-------+-----+--------+--------+-------------+-----------+-------------+-------------+-------------+\n",
      "only showing top 20 rows\n",
      "\n"
     ]
    }
   ],
   "source": [
    "print(f\"Category Sizes: {onehot_encoder.fit(df_temp).categorySizes}\")\n",
    "onehot_encoder.fit(df_temp).transform(df_temp).show()"
   ]
  },
  {
   "cell_type": "markdown",
   "id": "61dba0af-1956-4f1b-b629-093416be794f",
   "metadata": {},
   "source": [
    "<br>\n",
    "\n",
    "---\n",
    "\n",
    "<br>"
   ]
  },
  {
   "cell_type": "markdown",
   "id": "a0b9a67f-792f-4ec3-a081-614f23c7b475",
   "metadata": {},
   "source": [
    "## 5.4 Pipelines"
   ]
  },
  {
   "cell_type": "markdown",
   "id": "0d047e28-8e3d-4e9b-b7d7-0a77e2666760",
   "metadata": {},
   "source": [
    "Notice that there are quite a few transformations the data set must undergo:\n",
    "\n",
    "* The `Sex` column has to be transformed into an integer column of indices called `SexIndex`\n",
    "* The `SexIndex` column has to be one-hot encoded into a column of vectors called `SexVec`\n",
    "* The `Embarked` column has to be transformed into an integer column of indices called `EmbarkedIndex`\n",
    "* The `EmbarkedIndex` column has to be one-hot encoded into a column of vectors called `EmbarkedVec`\n",
    "* All the features have to be assembled into a single column called `features`.\n",
    "\n",
    "After all of these transformations are complete, we then have to fit a model on the transformed dataframe. Ideally, all of these steps could be packaged together into a single callable object and that is exactly what the `Pipeline` object does for us.\n",
    "\n",
    "Note: since we want to do inference, we will want to estimate the standard errors and p-values of the coefficients in our logistic regression. The `LogisticRegression` estimator doesn't come with this data. Instead, we need to use the `GeneralizedLinearRegression` estimator and pass in the appropriate `family` and `link` arguments. "
   ]
  },
  {
   "cell_type": "code",
   "execution_count": 175,
   "id": "43fbbb58-27bc-4474-9e5e-540dd6d9fd4e",
   "metadata": {},
   "outputs": [],
   "source": [
    "from pyspark.ml import Pipeline\n",
    "from pyspark.ml.regression import GeneralizedLinearRegression\n",
    "\n",
    "logreg_estimator = GeneralizedLinearRegression(\n",
    "    featuresCol = \"features\", \n",
    "    labelCol = \"Survived\",\n",
    "    family = \"binomial\",\n",
    "    link = \"logit\"\n",
    ")\n",
    "\n",
    "# build pipeline object;\n",
    "# we do this by passing a list\n",
    "# of transfomers\n",
    "logreg_pipeline = Pipeline(\n",
    "    stages = [\n",
    "        sex_indexer, \n",
    "        embark_indexer,\n",
    "        class_indexer,\n",
    "        onehot_encoder,\n",
    "        assembler,\n",
    "        logreg_estimator\n",
    "    ]\n",
    ")\n",
    "\n",
    "# fit model\n",
    "logreg_model = logreg_pipeline.fit(df_cleaned)\n",
    "\n",
    "# get model summary; \n",
    "# Note that PipelineModel objects do not have a summary attribute\n",
    "# so we have to go to the last stage (the LogisticRegressionModel)\n",
    "# to extract the summary attribute\n",
    "logreg_summary = logreg_model.stages[-1].summary\n",
    "logreg_coef = logreg_model.stages[-1].coefficients"
   ]
  },
  {
   "cell_type": "code",
   "execution_count": 185,
   "id": "e129a26a-55dd-47cb-8561-e815426effa0",
   "metadata": {},
   "outputs": [
    {
     "name": "stdout",
     "output_type": "stream",
     "text": [
      "Age (***): -0.043308465603244105 , p-value: 1.951227168728309e-07\n",
      "SibSp (***): -0.3629251992803568 , p-value: 0.004999634327305547\n",
      "Parch : -0.06036514250004655 , p-value: 0.6262326224247166\n",
      "Fare : 0.0014505840827550136 , p-value: 0.5761433962634026\n",
      "is_female (***): 2.6378591988135813 , p-value: 0.0\n",
      "is_southhampton : 0.4205318397276761 , p-value: 0.4497407222571197\n",
      "is_cherbourg : 0.823379451022296 , p-value: 0.17011265082109706\n",
      "is_1st_class (***): 2.3952198819466455 , p-value: 3.0393465522138285e-12\n",
      "is_2nd_class (***): 1.20558268971725 , p-value: 1.3859160119533698e-06\n"
     ]
    }
   ],
   "source": [
    "colnames = [\n",
    "    \"Age\",\n",
    "    \"SibSp\",\n",
    "    \"Parch\",\n",
    "    \"Fare\",\n",
    "    \"is_female\",\n",
    "    \"is_southhampton\",\n",
    "    \"is_cherbourg\",\n",
    "    \"is_1st_class\",\n",
    "    \"is_2nd_class\"\n",
    "]\n",
    "\n",
    "for result in zip(colnames, logreg_model.stages[-1].coefficients, logreg_summary.pValues):\n",
    "    sig_code = \"\"\n",
    "    if result[2] < 0.01:\n",
    "        sig_code = \"(***)\"\n",
    "    elif result[2] < 0.05:\n",
    "        sig_code = \"(**)\"\n",
    "    elif result[2] < 0.1:\n",
    "        sig_code = \"(*)\"\n",
    "    print(f\"{result[0]} {sig_code}: {result[1]} , p-value: {result[2]}\")"
   ]
  },
  {
   "cell_type": "markdown",
   "id": "b85af3ae-4647-439f-b11a-29b21d319590",
   "metadata": {},
   "source": [
    "On average, the model is saying:\n",
    "\n",
    "* `Age` has a slight negative relationship with survival probability: younger people were slightly more likely to survive. This is likely causal since younger children were given priority on the lifeboats.\n",
    "* `SibSp` has a negative relationship with survival probability; it's not clear if this relationship is legitimate or spurious, since we do not have any a priori reason to believe that having more siblings / being married would decrease survival probability.\n",
    "* `is_female` has a strong positive relationship with survival probability. This is almost certainly causal since women, specifically mothers, were likely given priority on the lifeboats.\n",
    "* `is_1st_class` and `is_2nd_class` both have a strong positive relationship with survival probability. This is almost certainly causal since it's likely that more affluent passengers were shown preferential treatment.\n",
    "\n",
    "The remaining 4 variables: `Parch`, `Fare`, `is_southhampton`, and `is_cherbourgh` were not statistically significant. The `Parch` variable is likely measuring the same information as `is_female` and `Age`, while `Fare` is likely measuring the same information as `is_1st_class` and `is_2nd_class`. The embark locations are likely colinear with class and sex, so it does not give any new information here."
   ]
  },
  {
   "cell_type": "markdown",
   "id": "ec32e343-b010-488b-a01f-47ef80d0f55a",
   "metadata": {},
   "source": [
    "<br>\n",
    "\n",
    "---\n",
    "\n",
    "<br>"
   ]
  }
 ],
 "metadata": {
  "kernelspec": {
   "display_name": "Python 3 (ipykernel)",
   "language": "python",
   "name": "python3"
  },
  "language_info": {
   "codemirror_mode": {
    "name": "ipython",
    "version": 3
   },
   "file_extension": ".py",
   "mimetype": "text/x-python",
   "name": "python",
   "nbconvert_exporter": "python",
   "pygments_lexer": "ipython3",
   "version": "3.11.8"
  }
 },
 "nbformat": 4,
 "nbformat_minor": 5
}
