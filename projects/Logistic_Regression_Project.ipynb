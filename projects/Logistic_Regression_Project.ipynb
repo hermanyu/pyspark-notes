{
 "cells": [
  {
   "cell_type": "markdown",
   "id": "11970dc1-3caa-459e-83de-f6808ba0e568",
   "metadata": {},
   "source": [
    "# Logistic Regression Project"
   ]
  },
  {
   "cell_type": "code",
   "execution_count": 22,
   "id": "b49217e6-0896-4962-87a9-b2ed699622c5",
   "metadata": {},
   "outputs": [],
   "source": [
    "from pyspark.sql import SparkSession\n",
    "from pyspark.sql import functions as F\n",
    "from pyspark.ml.linalg import Vector\n",
    "from pyspark.ml.feature import VectorAssembler\n",
    "from pyspark.ml.classification import LogisticRegression\n",
    "from pyspark.ml.evaluation import BinaryClassificationEvaluator\n",
    "\n",
    "SEED = 1738\n",
    "\n",
    "spark = SparkSession.builder.appName(\"Logistic Regression Project\").getOrCreate()"
   ]
  },
  {
   "cell_type": "code",
   "execution_count": 78,
   "id": "f552a854-977b-4eae-b2a7-0ba6e93c4843",
   "metadata": {},
   "outputs": [],
   "source": [
    "df = spark.read.csv(\"../course_materials/Spark_for_Machine_Learning/Logistic_Regression/customer_churn.csv\", header = True, inferSchema = True)\n",
    "df_final_test = spark.read.csv(\"../course_materials/Spark_for_Machine_Learning/Logistic_Regression/new_customers.csv\", header = True, inferSchema = True)"
   ]
  },
  {
   "cell_type": "code",
   "execution_count": 4,
   "id": "8165173a-3e4d-4b3e-9860-70eb3760ec1a",
   "metadata": {},
   "outputs": [
    {
     "name": "stdout",
     "output_type": "stream",
     "text": [
      "Number of rows: 900\n",
      "root\n",
      " |-- Names: string (nullable = true)\n",
      " |-- Age: double (nullable = true)\n",
      " |-- Total_Purchase: double (nullable = true)\n",
      " |-- Account_Manager: integer (nullable = true)\n",
      " |-- Years: double (nullable = true)\n",
      " |-- Num_Sites: double (nullable = true)\n",
      " |-- Onboard_date: timestamp (nullable = true)\n",
      " |-- Location: string (nullable = true)\n",
      " |-- Company: string (nullable = true)\n",
      " |-- Churn: integer (nullable = true)\n",
      "\n",
      "+-------------------+----+--------------+---------------+-----+---------+-------------------+--------------------+--------------------+-----+\n",
      "|              Names| Age|Total_Purchase|Account_Manager|Years|Num_Sites|       Onboard_date|            Location|             Company|Churn|\n",
      "+-------------------+----+--------------+---------------+-----+---------+-------------------+--------------------+--------------------+-----+\n",
      "|   Cameron Williams|42.0|       11066.8|              0| 7.22|      8.0|2013-08-30 07:00:40|10265 Elizabeth M...|          Harvey LLC|    1|\n",
      "|      Kevin Mueller|41.0|      11916.22|              0|  6.5|     11.0|2013-08-13 00:38:46|6157 Frank Garden...|          Wilson PLC|    1|\n",
      "|        Eric Lozano|38.0|      12884.75|              0| 6.67|     12.0|2016-06-29 06:20:07|1331 Keith Court ...|Miller, Johnson a...|    1|\n",
      "|      Phillip White|42.0|       8010.76|              0| 6.71|     10.0|2014-04-22 12:43:12|13120 Daniel Moun...|           Smith Inc|    1|\n",
      "|     Cynthia Norton|37.0|       9191.58|              0| 5.56|      9.0|2016-01-19 15:31:15|765 Tricia Row Ka...|          Love-Jones|    1|\n",
      "|   Jessica Williams|48.0|      10356.02|              0| 5.12|      8.0|2009-03-03 23:13:37|6187 Olson Mounta...|        Kelly-Warren|    1|\n",
      "|        Eric Butler|44.0|      11331.58|              1| 5.23|     11.0|2016-12-05 03:35:43|4846 Savannah Roa...|   Reynolds-Sheppard|    1|\n",
      "|      Zachary Walsh|32.0|       9885.12|              1| 6.92|      9.0|2006-03-09 14:50:20|25271 Roy Express...|          Singh-Cole|    1|\n",
      "|        Ashlee Carr|43.0|       14062.6|              1| 5.46|     11.0|2011-09-29 05:47:23|3725 Caroline Str...|           Lopez PLC|    1|\n",
      "|     Jennifer Lynch|40.0|       8066.94|              1| 7.11|     11.0|2006-03-28 15:42:45|363 Sandra Lodge ...|       Reed-Martinez|    1|\n",
      "|       Paula Harris|30.0|      11575.37|              1| 5.22|      8.0|2016-11-13 13:13:01|Unit 8120 Box 916...|Briggs, Lamb and ...|    1|\n",
      "|     Bruce Phillips|45.0|       8771.02|              1| 6.64|     11.0|2015-05-28 12:14:03|Unit 1895 Box 094...|    Figueroa-Maynard|    1|\n",
      "|       Craig Garner|45.0|       8988.67|              1| 4.84|     11.0|2011-02-16 08:10:47|897 Kelley Overpa...|     Abbott-Thompson|    1|\n",
      "|       Nicole Olson|40.0|       8283.32|              1|  5.1|     13.0|2012-11-22 05:35:03|11488 Weaver Cape...|Smith, Kim and Ma...|    1|\n",
      "|     Harold Griffin|41.0|       6569.87|              1|  4.3|     11.0|2015-03-28 02:13:44|1774 Peter Row Ap...|Snyder, Lee and M...|    1|\n",
      "|       James Wright|38.0|      10494.82|              1| 6.81|     12.0|2015-07-22 08:38:40|45408 David Path ...|      Sanders-Pierce|    1|\n",
      "|      Doris Wilkins|45.0|       8213.41|              1| 7.35|     11.0|2006-09-03 06:13:55|28216 Wright Moun...|Andrews, Adams an...|    1|\n",
      "|Katherine Carpenter|43.0|      11226.88|              0| 8.08|     12.0|2006-10-22 04:42:38|Unit 4948 Box 481...|Morgan, Phillips ...|    1|\n",
      "|     Lindsay Martin|53.0|       5515.09|              0| 6.85|      8.0|2015-10-07 00:27:10|69203 Crosby Divi...|      Villanueva LLC|    1|\n",
      "|        Kathy Curry|46.0|        8046.4|              1| 5.69|      8.0|2014-11-06 23:47:14|9569 Caldwell Cre...|Berry, Orr and Ca...|    1|\n",
      "+-------------------+----+--------------+---------------+-----+---------+-------------------+--------------------+--------------------+-----+\n",
      "only showing top 20 rows\n",
      "\n"
     ]
    }
   ],
   "source": [
    "print(f\"Number of rows: {df.count()}\")\n",
    "\n",
    "df.printSchema()\n",
    "\n",
    "df.show()"
   ]
  },
  {
   "cell_type": "code",
   "execution_count": 75,
   "id": "85713cb5-231b-472f-8f86-725c07d59f05",
   "metadata": {},
   "outputs": [
    {
     "name": "stdout",
     "output_type": "stream",
     "text": [
      "+--------------+----+--------------+---------------+-----+---------+-------------------+--------------------+----------------+\n",
      "|         Names| Age|Total_Purchase|Account_Manager|Years|Num_Sites|       Onboard_date|            Location|         Company|\n",
      "+--------------+----+--------------+---------------+-----+---------+-------------------+--------------------+----------------+\n",
      "| Andrew Mccall|37.0|       9935.53|              1| 7.71|      8.0|2011-08-29 18:37:54|38612 Johnny Stra...|        King Ltd|\n",
      "|Michele Wright|23.0|       7526.94|              1| 9.28|     15.0|2013-07-22 18:19:54|21083 Nicole Junc...|   Cannon-Benson|\n",
      "|  Jeremy Chang|65.0|         100.0|              1|  1.0|     15.0|2006-12-11 07:48:13|085 Austin Views ...|Barron-Robertson|\n",
      "|Megan Ferguson|32.0|        6487.5|              0|  9.4|     14.0|2016-10-28 05:32:13|922 Wright Branch...|   Sexton-Golden|\n",
      "|  Taylor Young|32.0|      13147.71|              1| 10.0|      8.0|2012-03-20 00:36:46|Unit 0789 Box 073...|        Wood LLC|\n",
      "| Jessica Drake|22.0|       8445.26|              1| 3.46|     14.0|2011-02-04 19:29:27|1148 Tina Straven...|   Parks-Robbins|\n",
      "+--------------+----+--------------+---------------+-----+---------+-------------------+--------------------+----------------+\n",
      "\n"
     ]
    }
   ],
   "source": [
    "df_final_test.show()"
   ]
  },
  {
   "cell_type": "markdown",
   "id": "d01ea716-f9fd-41e2-807b-95920d1f88b1",
   "metadata": {},
   "source": [
    "<br>\n",
    "\n",
    "---\n",
    "\n",
    "<br>"
   ]
  },
  {
   "cell_type": "code",
   "execution_count": 16,
   "id": "9e6fa7e4-cf09-48ba-851b-9d257ab1726f",
   "metadata": {},
   "outputs": [
    {
     "name": "stdout",
     "output_type": "stream",
     "text": [
      "10265 Elizabeth Mission Barkerburgh, AK 89518\n",
      "6157 Frank Gardens Suite 019 Carloshaven, RI 17756\n",
      "1331 Keith Court Alyssahaven, DE 90114\n",
      "13120 Daniel Mount Angelabury, WY 30645-4695\n",
      "765 Tricia Row Karenshire, MH 71730\n",
      "6187 Olson Mountains East Vincentborough, PR 74359\n",
      "4846 Savannah Road West Justin, IA 87713-3460\n",
      "25271 Roy Expressway Suite 147 Brownport, FM 59852-6150\n",
      "3725 Caroline Stravenue South Christineview, MA 82059\n",
      "363 Sandra Lodge Suite 144 South Ann, WI 51655-7561\n",
      "Unit 8120 Box 9160 DPO AA 43432\n",
      "Unit 1895 Box 0949 DPO AA 40249\n",
      "897 Kelley Overpass Suite 349 West Rebekahport, AZ 44793\n",
      "11488 Weaver Cape Hernandezberg, WI 63417-8544\n",
      "1774 Peter Row Apt. 712 New Autumn, MT 18782\n",
      "45408 David Path East Kimberlyshire, HI 54903-6698\n",
      "28216 Wright Mount Apt. 356 Alichester, DE 40999-2369\n",
      "Unit 4948 Box 4814 DPO AP 42669\n",
      "69203 Crosby Divide Apt. 878 Parkerview, CO 87064\n",
      "9569 Caldwell Crescent Tanyaborough, RI 30637\n"
     ]
    }
   ],
   "source": [
    "for row in df.head(20):\n",
    "    print(row[\"Location\"])"
   ]
  },
  {
   "cell_type": "code",
   "execution_count": 13,
   "id": "4cea5df6-7481-4b40-8f56-2b3f5f3e7a71",
   "metadata": {},
   "outputs": [
    {
     "name": "stdout",
     "output_type": "stream",
     "text": [
      "+-------------+-------------+\n",
      "|num_locations|num_companies|\n",
      "+-------------+-------------+\n",
      "|          900|          873|\n",
      "+-------------+-------------+\n",
      "\n"
     ]
    }
   ],
   "source": [
    "df.agg(\n",
    "    F.countDistinct(df[\"Location\"]).alias(\"num_locations\"),\n",
    "    F.countDistinct(df[\"Company\"]).alias(\"num_companies\")\n",
    ").show()"
   ]
  },
  {
   "cell_type": "code",
   "execution_count": 28,
   "id": "cefed31d-f022-4dab-91dd-ee47781739f3",
   "metadata": {},
   "outputs": [
    {
     "name": "stdout",
     "output_type": "stream",
     "text": [
      "+-----+-----+-----------------+------------------+----------------------+------------------+-----------------+------------------+\n",
      "|Churn|count|         mean_age|     mean_purchase|prop_with_acct_manager|        mean_years|   mean_num_sites| mean_onboard_year|\n",
      "+-----+-----+-----------------+------------------+----------------------+------------------+-----------------+------------------+\n",
      "|    1|  150|42.99333333333333|10192.179933333337|                  0.56|5.8835999999999995|            10.66|2010.5133333333333|\n",
      "|    0|  750|41.58133333333333|10036.952853333332|    0.4653333333333333|5.1510666666666625|8.173333333333334|2010.8586666666667|\n",
      "+-----+-----+-----------------+------------------+----------------------+------------------+-----------------+------------------+\n",
      "\n"
     ]
    }
   ],
   "source": [
    "df.groupBy(\"Churn\").agg(\n",
    "    F.count(df[\"Churn\"]).alias(\"count\"),\n",
    "    F.mean(df[\"Age\"]).alias(\"mean_age\"),\n",
    "    F.mean(df[\"Total_Purchase\"]).alias(\"mean_purchase\"),\n",
    "    F.mean(df[\"Account_Manager\"]).alias(\"prop_with_acct_manager\"),\n",
    "    F.mean(df[\"Years\"]).alias(\"mean_years\"),\n",
    "    F.mean(df[\"Num_Sites\"]).alias(\"mean_num_sites\"),\n",
    "    F.mean(F.year(df[\"Onboard_date\"])).alias(\"mean_onboard_year\")\n",
    ").show()"
   ]
  },
  {
   "cell_type": "markdown",
   "id": "f6a21436-51b1-4391-a75e-419e32b45400",
   "metadata": {},
   "source": [
    "<br>\n",
    "\n",
    "---\n",
    "\n",
    "<br>"
   ]
  },
  {
   "cell_type": "code",
   "execution_count": 30,
   "id": "96a06e27-5430-4fe4-81a1-728f7c8d1307",
   "metadata": {},
   "outputs": [
    {
     "name": "stdout",
     "output_type": "stream",
     "text": [
      "+-------------------+----+--------------+---------------+-----+---------+-------------------+--------------------+--------------------+-----+--------------------+\n",
      "|              Names| Age|Total_Purchase|Account_Manager|Years|Num_Sites|       Onboard_date|            Location|             Company|Churn|            features|\n",
      "+-------------------+----+--------------+---------------+-----+---------+-------------------+--------------------+--------------------+-----+--------------------+\n",
      "|   Cameron Williams|42.0|       11066.8|              0| 7.22|      8.0|2013-08-30 07:00:40|10265 Elizabeth M...|          Harvey LLC|    1|[42.0,11066.8,0.0...|\n",
      "|      Kevin Mueller|41.0|      11916.22|              0|  6.5|     11.0|2013-08-13 00:38:46|6157 Frank Garden...|          Wilson PLC|    1|[41.0,11916.22,0....|\n",
      "|        Eric Lozano|38.0|      12884.75|              0| 6.67|     12.0|2016-06-29 06:20:07|1331 Keith Court ...|Miller, Johnson a...|    1|[38.0,12884.75,0....|\n",
      "|      Phillip White|42.0|       8010.76|              0| 6.71|     10.0|2014-04-22 12:43:12|13120 Daniel Moun...|           Smith Inc|    1|[42.0,8010.76,0.0...|\n",
      "|     Cynthia Norton|37.0|       9191.58|              0| 5.56|      9.0|2016-01-19 15:31:15|765 Tricia Row Ka...|          Love-Jones|    1|[37.0,9191.58,0.0...|\n",
      "|   Jessica Williams|48.0|      10356.02|              0| 5.12|      8.0|2009-03-03 23:13:37|6187 Olson Mounta...|        Kelly-Warren|    1|[48.0,10356.02,0....|\n",
      "|        Eric Butler|44.0|      11331.58|              1| 5.23|     11.0|2016-12-05 03:35:43|4846 Savannah Roa...|   Reynolds-Sheppard|    1|[44.0,11331.58,1....|\n",
      "|      Zachary Walsh|32.0|       9885.12|              1| 6.92|      9.0|2006-03-09 14:50:20|25271 Roy Express...|          Singh-Cole|    1|[32.0,9885.12,1.0...|\n",
      "|        Ashlee Carr|43.0|       14062.6|              1| 5.46|     11.0|2011-09-29 05:47:23|3725 Caroline Str...|           Lopez PLC|    1|[43.0,14062.6,1.0...|\n",
      "|     Jennifer Lynch|40.0|       8066.94|              1| 7.11|     11.0|2006-03-28 15:42:45|363 Sandra Lodge ...|       Reed-Martinez|    1|[40.0,8066.94,1.0...|\n",
      "|       Paula Harris|30.0|      11575.37|              1| 5.22|      8.0|2016-11-13 13:13:01|Unit 8120 Box 916...|Briggs, Lamb and ...|    1|[30.0,11575.37,1....|\n",
      "|     Bruce Phillips|45.0|       8771.02|              1| 6.64|     11.0|2015-05-28 12:14:03|Unit 1895 Box 094...|    Figueroa-Maynard|    1|[45.0,8771.02,1.0...|\n",
      "|       Craig Garner|45.0|       8988.67|              1| 4.84|     11.0|2011-02-16 08:10:47|897 Kelley Overpa...|     Abbott-Thompson|    1|[45.0,8988.67,1.0...|\n",
      "|       Nicole Olson|40.0|       8283.32|              1|  5.1|     13.0|2012-11-22 05:35:03|11488 Weaver Cape...|Smith, Kim and Ma...|    1|[40.0,8283.32,1.0...|\n",
      "|     Harold Griffin|41.0|       6569.87|              1|  4.3|     11.0|2015-03-28 02:13:44|1774 Peter Row Ap...|Snyder, Lee and M...|    1|[41.0,6569.87,1.0...|\n",
      "|       James Wright|38.0|      10494.82|              1| 6.81|     12.0|2015-07-22 08:38:40|45408 David Path ...|      Sanders-Pierce|    1|[38.0,10494.82,1....|\n",
      "|      Doris Wilkins|45.0|       8213.41|              1| 7.35|     11.0|2006-09-03 06:13:55|28216 Wright Moun...|Andrews, Adams an...|    1|[45.0,8213.41,1.0...|\n",
      "|Katherine Carpenter|43.0|      11226.88|              0| 8.08|     12.0|2006-10-22 04:42:38|Unit 4948 Box 481...|Morgan, Phillips ...|    1|[43.0,11226.88,0....|\n",
      "|     Lindsay Martin|53.0|       5515.09|              0| 6.85|      8.0|2015-10-07 00:27:10|69203 Crosby Divi...|      Villanueva LLC|    1|[53.0,5515.09,0.0...|\n",
      "|        Kathy Curry|46.0|        8046.4|              1| 5.69|      8.0|2014-11-06 23:47:14|9569 Caldwell Cre...|Berry, Orr and Ca...|    1|[46.0,8046.4,1.0,...|\n",
      "+-------------------+----+--------------+---------------+-----+---------+-------------------+--------------------+--------------------+-----+--------------------+\n",
      "only showing top 20 rows\n",
      "\n"
     ]
    }
   ],
   "source": [
    "feature_cols = [\n",
    "    \"Age\",\n",
    "    \"Total_Purchase\",\n",
    "    \"Account_Manager\",\n",
    "    \"Years\",\n",
    "    \"Num_Sites\"\n",
    "]\n",
    "\n",
    "assembler = VectorAssembler(\n",
    "    inputCols = feature_cols,\n",
    "    outputCol = \"features\"\n",
    ")\n",
    "\n",
    "df_model = assembler.transform(df)\n",
    "\n",
    "df_model.show()"
   ]
  },
  {
   "cell_type": "code",
   "execution_count": 31,
   "id": "57d65871-e721-449b-9271-efb69dcb0305",
   "metadata": {},
   "outputs": [
    {
     "name": "stdout",
     "output_type": "stream",
     "text": [
      "+-----+-----+\n",
      "|Churn|count|\n",
      "+-----+-----+\n",
      "|    1|  110|\n",
      "|    0|  541|\n",
      "+-----+-----+\n",
      "\n",
      "+-----+-----+\n",
      "|Churn|count|\n",
      "+-----+-----+\n",
      "|    1|   40|\n",
      "|    0|  209|\n",
      "+-----+-----+\n",
      "\n"
     ]
    }
   ],
   "source": [
    "df_train = df_model.sampleBy(\"Churn\", fractions = {0: 0.7, 1:0.7}, seed = SEED)\n",
    "df_test = df_model.subtract(df_train)\n",
    "\n",
    "df_train.groupBy(\"Churn\").agg(\n",
    "    F.count(\"Churn\").alias(\"count\")\n",
    ").show()\n",
    "\n",
    "df_test.groupBy(\"Churn\").agg(\n",
    "    F.count(\"Churn\").alias(\"count\")\n",
    ").show()"
   ]
  },
  {
   "cell_type": "code",
   "execution_count": 63,
   "id": "dc5b7c82-45c6-4943-b804-975073cc43c6",
   "metadata": {},
   "outputs": [],
   "source": [
    "logreg_estimator = LogisticRegression(\n",
    "    featuresCol = \"features\",\n",
    "    labelCol = \"Churn\"\n",
    ")\n",
    "\n",
    "logreg_model = logreg_estimator.fit(df_train)\n",
    "\n",
    "logreg_results = logreg_model.evaluate(df_test)\n",
    "\n",
    "df_results = logreg_results.predictions"
   ]
  },
  {
   "cell_type": "code",
   "execution_count": 66,
   "id": "dec8b2b4-113c-4826-8faa-c80da3493984",
   "metadata": {},
   "outputs": [
    {
     "data": {
      "text/plain": [
       "0.891566265060241"
      ]
     },
     "execution_count": 66,
     "metadata": {},
     "output_type": "execute_result"
    }
   ],
   "source": [
    "logreg_results.accuracy"
   ]
  },
  {
   "cell_type": "code",
   "execution_count": 71,
   "id": "58d4a62a-6ab8-4d33-9b68-46a01b780603",
   "metadata": {},
   "outputs": [
    {
     "name": "stdout",
     "output_type": "stream",
     "text": [
      "Labels: [0.0, 1.0]\n",
      "False Positive Rate: [0.4, 0.05263157894736842]\n",
      "True Positive Rate: [0.9473684210526315, 0.6]\n",
      "Recall: [0.9473684210526315, 0.6]\n"
     ]
    }
   ],
   "source": [
    "print(f\"Labels: {logreg_results.labels}\")\n",
    "print(f\"False Positive Rate: {logreg_results.falsePositiveRateByLabel}\")\n",
    "print(f\"True Positive Rate: {logreg_results.truePositiveRateByLabel}\")\n",
    "print(f\"Recall: {logreg_results.recallByLabel}\")"
   ]
  },
  {
   "cell_type": "code",
   "execution_count": 73,
   "id": "3d418240-2736-45e7-bf0b-1a55ff4d9a1b",
   "metadata": {},
   "outputs": [
    {
     "name": "stdout",
     "output_type": "stream",
     "text": [
      "Area Under ROC Curve: 0.8827751196172232\n"
     ]
    }
   ],
   "source": [
    "logreg_eval = BinaryClassificationEvaluator(\n",
    "    labelCol = \"Churn\",\n",
    "    metricName = \"areaUnderROC\"\n",
    ")\n",
    "\n",
    "print(f\"Area Under ROC Curve: {logreg_eval.evaluate(df_results)}\")"
   ]
  },
  {
   "cell_type": "markdown",
   "id": "c24688cb-8210-4e10-96ac-e410a71e174d",
   "metadata": {},
   "source": [
    "<br>\n",
    "\n",
    "---\n",
    "\n",
    "<br>"
   ]
  },
  {
   "cell_type": "code",
   "execution_count": 80,
   "id": "bcab4e4f-ee12-4bcf-b939-584d81236241",
   "metadata": {},
   "outputs": [],
   "source": [
    "final_model = logreg_estimator.fit(df_model)"
   ]
  },
  {
   "cell_type": "code",
   "execution_count": 81,
   "id": "12d4734e-ec10-4896-825c-0501114c4838",
   "metadata": {},
   "outputs": [],
   "source": [
    "df_model_final_test = assembler.transform(df_final_test)\n",
    "\n",
    "final_results = final_model.transform(df_model_final_test)"
   ]
  },
  {
   "cell_type": "code",
   "execution_count": 85,
   "id": "e20accc8-701a-41b1-9639-7fbf8ac89f36",
   "metadata": {},
   "outputs": [
    {
     "name": "stdout",
     "output_type": "stream",
     "text": [
      "+--------------+----+--------------+---------------+-----+---------+----------------+--------------------+----------+\n",
      "|         Names| Age|Total_Purchase|Account_Manager|Years|Num_Sites|         Company|         probability|prediction|\n",
      "+--------------+----+--------------+---------------+-----+---------+----------------+--------------------+----------+\n",
      "| Andrew Mccall|37.0|       9935.53|              1| 7.71|      8.0|        King Ltd|[0.90218015921764...|       0.0|\n",
      "|Michele Wright|23.0|       7526.94|              1| 9.28|     15.0|   Cannon-Benson|[0.00198380259784...|       1.0|\n",
      "|  Jeremy Chang|65.0|         100.0|              1|  1.0|     15.0|Barron-Robertson|[0.02255113312433...|       1.0|\n",
      "|Megan Ferguson|32.0|        6487.5|              0|  9.4|     14.0|   Sexton-Golden|[0.00608622076714...|       1.0|\n",
      "|  Taylor Young|32.0|      13147.71|              1| 10.0|      8.0|        Wood LLC|[0.75115056144900...|       0.0|\n",
      "| Jessica Drake|22.0|       8445.26|              1| 3.46|     14.0|   Parks-Robbins|[0.15582818486369...|       1.0|\n",
      "+--------------+----+--------------+---------------+-----+---------+----------------+--------------------+----------+\n",
      "\n"
     ]
    }
   ],
   "source": [
    "final_results.select(\n",
    "    [\n",
    "        \"Names\",\n",
    "        \"Age\",\n",
    "        \"Total_Purchase\",\n",
    "        \"Account_Manager\",\n",
    "        \"Years\",\n",
    "        \"Num_Sites\",\n",
    "        \"Company\",\n",
    "        \"probability\",\n",
    "        \"prediction\"\n",
    "    ]\n",
    ").show()"
   ]
  }
 ],
 "metadata": {
  "kernelspec": {
   "display_name": "Python 3 (ipykernel)",
   "language": "python",
   "name": "python3"
  },
  "language_info": {
   "codemirror_mode": {
    "name": "ipython",
    "version": 3
   },
   "file_extension": ".py",
   "mimetype": "text/x-python",
   "name": "python",
   "nbconvert_exporter": "python",
   "pygments_lexer": "ipython3",
   "version": "3.11.8"
  }
 },
 "nbformat": 4,
 "nbformat_minor": 5
}
